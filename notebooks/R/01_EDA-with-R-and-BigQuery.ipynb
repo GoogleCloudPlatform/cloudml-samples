{
 "cells": [
  {
   "cell_type": "markdown",
   "metadata": {},
   "source": [
    "# Exploratory Data Analysis with R and BigQuery\n",
    "## Overview\n",
    "\n",
    "This notebook illustrates how to perform Exploratory Data Analysis (EDA) using R, on data extracted from BigQuery. After analysing and processing the data, the transformed data is stored in Cloud Storage (GCS) for further Machine Learning (MLL) tasks.\n",
    "\n",
    "R is one of the most widely used programming languages for statistical modeling, which has a large and active community of data scientists and ML professional. \n",
    "With over 10,000 packages in the open-source repository of CRAN, R caters to all statistical data analysis applications, ML, and visualisation.\n",
    "\n",
    "\n",
    "## Dataset\n",
    "The dataset used in this tutorial is natality data, which describes all United States births registered in the 50 States, the District of Columbia, and New York City from 1969 to 2008, with more than 137 million records.\n",
    "The dataset is available in [BigQuery public dataset](https://console.cloud.google.com/bigquery?p=bigquery-public-data&d=samples&t=natality&page=table&_ga=2.99329886.-1705629017.1551465326&_gac=1.109796023.1561476396.CI2rz-z4hOMCFc6RhQods4oEXA).\n",
    "\n",
    "In this notebook, we focus on Exploratory Data Analysis, while the goal is to predict the baby's weight given a number of factors about the pregnancy and the baby's mother.\n",
    "\n",
    "## Objective\n",
    "The goal of this tutorial is to:\n",
    "1. Query and analyse data from BigQuery using bigrquery R library\n",
    "2. Prepare and store data in Cloud Storage for ML \n",
    "\n",
    "\n",
    "## Costs\n",
    "This tutorial uses billable components of Google Cloud Platform (GCP):\n",
    "1. AI Platform Notebooks\n",
    "2. BigQuery\n",
    "3. Cloud Storage\n",
    "\n",
    "Learn about GCP pricing, use the [Pricing Calculator](https://cloud.google.com/products/calculator/) to generate a cost estimate based on your projected usage.\n"
   ]
  },
  {
   "cell_type": "markdown",
   "metadata": {},
   "source": [
    "## 0. Setup \n",
    "Install and import the required libraries. \n",
    "\n",
    "This may take several minutes if not installed already..."
   ]
  },
  {
   "cell_type": "code",
   "execution_count": null,
   "metadata": {},
   "outputs": [],
   "source": [
    "# install the required R libraries\n",
    "install.packages(c(\"bigrquery\", \"ggplot2\", \"readr\"))"
   ]
  },
  {
   "cell_type": "code",
   "execution_count": null,
   "metadata": {},
   "outputs": [],
   "source": [
    "# import R libraries\n",
    "library(bigrquery) # used for querying BigQuery\n",
    "library(ggplot2) # used for visualisation\n",
    "library(dplyr) # used for data wrangling\n",
    "library(readr) # required by bigrquery"
   ]
  },
  {
   "cell_type": "markdown",
   "metadata": {},
   "source": [
    "Set your `PROJECT_ID` and `BUCKET_NAME`"
   ]
  },
  {
   "cell_type": "code",
   "execution_count": null,
   "metadata": {},
   "outputs": [],
   "source": [
    "# Provide authentication through the JSON service account key\n",
    "set_service_token(\"service-account-key.json\")\n",
    "\n",
    "# Set the project id\n",
    "PROJECT_ID <- \"r-on-gcp\"\n",
    "\n",
    "# Set yout GCS bucket\n",
    "BUCKET_NAME <- \"r-on-gcp\""
   ]
  },
  {
   "cell_type": "markdown",
   "metadata": {},
   "source": [
    "## 1. Querying Data from BigQuery "
   ]
  },
  {
   "cell_type": "markdown",
   "metadata": {},
   "source": [
    "### 1.1. Prepare the BigQuery query"
   ]
  },
  {
   "cell_type": "code",
   "execution_count": null,
   "metadata": {},
   "outputs": [],
   "source": [
    "sql_query <- \"\n",
    "    SELECT\n",
    "      ROUND(weight_pounds, 2) AS weight_pounds ,\n",
    "      is_male,\n",
    "      mother_age,\n",
    "      mother_race,\n",
    "      plurality,\n",
    "      gestation_weeks,\n",
    "      mother_married,\n",
    "      cigarette_use,\n",
    "      alcohol_use,\n",
    "      CAST(ABS(FARM_FINGERPRINT(\n",
    "        CONCAT(\n",
    "        CAST(YEAR AS STRING), CAST(month AS STRING), CAST(weight_pounds AS STRING)))) AS STRING) AS key\n",
    "    FROM\n",
    "        publicdata.samples.natality\n",
    "    WHERE \n",
    "      year > 2000\n",
    "      AND weight_pounds > 0\n",
    "      AND mother_age > 0\n",
    "      AND plurality > 0\n",
    "      AND gestation_weeks > 0\n",
    "      AND month > 0\n",
    "    LIMIT %s\n",
    "\""
   ]
  },
  {
   "cell_type": "markdown",
   "metadata": {},
   "source": [
    "### 1.2. Execute the query \n",
    "The data will be retreived from BigQuery, and the results will be stored in an in-memory dataframe."
   ]
  },
  {
   "cell_type": "code",
   "execution_count": null,
   "metadata": {},
   "outputs": [],
   "source": [
    "sample_size <- 10000\n",
    "sql_query <- sprintf(sql_query, sample_size)\n",
    "\n",
    "natality_data <- bq_table_download(\n",
    "    bq_project_query(\n",
    "        PROJECT_ID, \n",
    "        query=sql_query\n",
    "    )\n",
    ")"
   ]
  },
  {
   "cell_type": "markdown",
   "metadata": {},
   "source": [
    "### 1.3. View the query results"
   ]
  },
  {
   "cell_type": "code",
   "execution_count": null,
   "metadata": {},
   "outputs": [],
   "source": [
    "# View the query result\n",
    "head(natality_data)"
   ]
  },
  {
   "cell_type": "code",
   "execution_count": null,
   "metadata": {},
   "outputs": [],
   "source": [
    "# View the results summary\n",
    "summary(natality_data)"
   ]
  },
  {
   "cell_type": "markdown",
   "metadata": {},
   "source": [
    "# 2. Visualising retreived data"
   ]
  },
  {
   "cell_type": "code",
   "execution_count": null,
   "metadata": {},
   "outputs": [],
   "source": [
    "# Display the distribution of the baby weights using a Histogram\n",
    "ggplot(\n",
    "    data=natality_data, \n",
    "    aes(x = weight_pounds)\n",
    ") + geom_histogram(bins = 200)"
   ]
  },
  {
   "cell_type": "code",
   "execution_count": null,
   "metadata": {},
   "outputs": [],
   "source": [
    "# Display the correlation between the gestations weeks and baby weights \n",
    "ggplot(\n",
    "    data=natality_data, \n",
    "    aes(x = gestation_weeks, y = weight_pounds)\n",
    ") + geom_point() + geom_smooth(method = \"lm\")"
   ]
  },
  {
   "cell_type": "markdown",
   "metadata": {},
   "source": [
    "### Performing the processing in BigQuery\n",
    "Create function that finds the number of records and the average weight for each value of the chosen column"
   ]
  },
  {
   "cell_type": "code",
   "execution_count": null,
   "metadata": {},
   "outputs": [],
   "source": [
    "get_distinct_values <- function(column_name) {\n",
    "    query <- paste0(\n",
    "        'SELECT ', column_name, ', \n",
    "            COUNT(1) AS num_babies,\n",
    "            AVG(weight_pounds) AS avg_wt\n",
    "        FROM publicdata.samples.natality\n",
    "        WHERE year > 2000\n",
    "        GROUP BY ', column_name)\n",
    "    query_exec(query, project = PROJECT_ID, useLegacySql = FALSE)\n",
    "}"
   ]
  },
  {
   "cell_type": "code",
   "execution_count": null,
   "metadata": {},
   "outputs": [],
   "source": [
    "df <- get_distinct_values('is_male')\n",
    "ggplot(data = df, aes(x = is_male, y = num_babies)) + geom_bar(stat = \"identity\")\n",
    "ggplot(data = df, aes(x = is_male, y = avg_wt)) + geom_bar(stat = \"identity\")"
   ]
  },
  {
   "cell_type": "code",
   "execution_count": null,
   "metadata": {},
   "outputs": [],
   "source": [
    "df <- get_distinct_values('mother_age')\n",
    "ggplot(data = df, aes(x = mother_age, y = num_babies)) + geom_line(stat = \"identity\")\n",
    "ggplot(data = df, aes(x = mother_age, y = avg_wt)) + geom_line(stat = \"identity\")"
   ]
  },
  {
   "cell_type": "code",
   "execution_count": null,
   "metadata": {},
   "outputs": [],
   "source": [
    "df <- get_distinct_values('plurality')\n",
    "ggplot(data=df, aes(x=plurality, y=num_babies)) + geom_bar(stat=\"identity\") + scale_y_log10()\n",
    "ggplot(data=df, aes(x=plurality, y=avg_wt)) + geom_bar(stat = \"identity\")"
   ]
  },
  {
   "cell_type": "code",
   "execution_count": null,
   "metadata": {},
   "outputs": [],
   "source": [
    "df <- get_distinct_values('gestation_weeks')\n",
    "ggplot(data = df, aes(x = gestation_weeks, y = num_babies)) + geom_bar(stat = \"identity\") + scale_y_log10()\n",
    "ggplot(data = df, aes(x = gestation_weeks, y = avg_wt)) + geom_bar(stat = \"identity\")"
   ]
  },
  {
   "cell_type": "markdown",
   "metadata": {},
   "source": [
    "# 3. Saving the data as CSV to GCS"
   ]
  },
  {
   "cell_type": "code",
   "execution_count": null,
   "metadata": {},
   "outputs": [],
   "source": [
    "# Prepare train and evaluation data from BigQuery\n",
    "sample_size <- 10000\n",
    "sql_query <- sprintf(sql_query, sample_size)\n",
    "\n",
    "train_query <- paste('SELECT * FROM (', sql_query, ') WHERE MOD(CAST(key AS INT64), 100) <= 75')\n",
    "eval_query <- paste('SELECT * FROM (', sql_query, ') WHERE MOD(CAST(key AS INT64), 100) > 75')\n",
    "\n",
    "# Load train data to data.frame\n",
    "train_data <- bq_table_download(\n",
    "    bq_project_query(\n",
    "        PROJECT_ID, \n",
    "        query=train_query\n",
    "    )\n",
    ")\n",
    "\n",
    "# Load evaluation data to data.frame\n",
    "eval_data <- bq_table_download(\n",
    "    bq_project_query(\n",
    "        PROJECT_ID, \n",
    "        query=eval_query\n",
    "    )\n",
    ")"
   ]
  },
  {
   "cell_type": "code",
   "execution_count": null,
   "metadata": {},
   "outputs": [],
   "source": [
    "print(paste0(\"Training instances count: \", nrow(train_data)))\n",
    "print(paste0(\"Evaluation instances count: \",nrow(eval_data)))"
   ]
  },
  {
   "cell_type": "code",
   "execution_count": null,
   "metadata": {},
   "outputs": [],
   "source": [
    "# Write data frames to a local CSV files, without headers nor row index\n",
    "dir.create(file.path('data'), showWarnings = FALSE)\n",
    "write.table(train_data, \"data/train_data.csv\", row.names=FALSE, col.names=FALSE, sep=\",\")\n",
    "write.table(eval_data, \"data/eval_data.csv\", row.names=FALSE, col.names=FALSE, sep=\",\")"
   ]
  },
  {
   "cell_type": "code",
   "execution_count": null,
   "metadata": {},
   "outputs": [],
   "source": [
    "# Upload CSV data to GCS\n",
    "gcs_url <- paste0(\"gs://\", BUCKET_NAME, \"/\")\n",
    "command <- paste(\"gsutil mb\", gcs_url)\n",
    "system(command)\n",
    "gcs_data_dir <- paste0(\"gs://\", BUCKET_NAME, \"/data\")\n",
    "command <- paste(\"gsutil cp data/*_data.csv\", gcs_data_dir)\n",
    "system(command)"
   ]
  },
  {
   "cell_type": "code",
   "execution_count": null,
   "metadata": {},
   "outputs": [],
   "source": [
    "command <- paste(\"gsutil ls -l\", gcs_data_dir)\n",
    "system(command, intern = TRUE)"
   ]
  },
  {
   "cell_type": "markdown",
   "metadata": {},
   "source": [
    "## License"
   ]
  },
  {
   "cell_type": "markdown",
   "metadata": {},
   "source": [
    "Authors: Daniel Sparing & Khalid Salama\n",
    "\n",
    "---\n",
    "**Disclaimer**: This is not an official Google product. The sample code provided for an educational purpose.\n",
    "\n",
    "---\n",
    "\n",
    "Copyright 2019 Google LLC\n",
    "\n",
    "Licensed under the Apache License, Version 2.0 (the \"License\");\n",
    "you may not use this file except in compliance with the License.\n",
    "You may obtain a copy of the License at http://www.apache.org/licenses/LICENSE-2.0.\n",
    "\n",
    "Unless required by applicable law or agreed to in writing, software\n",
    "distributed under the License is distributed on an \"AS IS\" BASIS,\n",
    "WITHOUT WARRANTIES OR CONDITIONS OF ANY KIND, either express or implied.\n",
    "See the License for the specific language governing permissions and\n",
    "limitations under the License."
   ]
  },
  {
   "cell_type": "code",
   "execution_count": null,
   "metadata": {},
   "outputs": [],
   "source": []
  }
 ],
 "metadata": {
  "kernelspec": {
   "display_name": "R",
   "language": "R",
   "name": "ir"
  },
  "language_info": {
   "codemirror_mode": "r",
   "file_extension": ".r",
   "mimetype": "text/x-r-source",
   "name": "R",
   "pygments_lexer": "r",
   "version": "3.6.1"
  }
 },
 "nbformat": 4,
 "nbformat_minor": 2
}
